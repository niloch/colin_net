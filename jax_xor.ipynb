{
 "cells": [
  {
   "cell_type": "code",
   "execution_count": null,
   "metadata": {},
   "outputs": [],
   "source": [
    "\"\"\"\n",
    "The canonical example of a function that can't be\n",
    "learned with a simple linear model is XOR\n",
    "\"\"\"\n",
    "import json\n",
    "\n",
    "import jax.numpy as np\n",
    "from tqdm.autonotebook import tqdm\n",
    "\n",
    "from colin_net.train import Experiment\n",
    "from colin_net.metrics import accuracy\n",
    "\n",
    "# Create Input Data and True Labels\n",
    "inputs = np.array([[0, 0], [1, 0], [0, 1], [1, 1]])\n",
    "\n",
    "targets = np.array([[1, 0], [0, 1], [0, 1], [1, 0]])\n",
    "\n",
    "config = {\n",
    "    \"experiment_name\": \"xor_runs\",\n",
    "    \"model_config\": {\n",
    "        \"output_dim\": 2,\n",
    "        \"input_dim\": 2,\n",
    "        \"hidden_dim\": 2,\n",
    "        \"num_hidden\": 2,\n",
    "        \"activation\": \"tanh\",\n",
    "        \"dropout_keep\": None,\n",
    "    },\n",
    "    \"random_seed\": 42,\n",
    "    \"loss\": \"mean_squared_error\",\n",
    "    \"regularization\": None,\n",
    "    \"optimizer\": \"sgd\",\n",
    "    \"learning_rate\": 0.001,\n",
    "    \"batch_size\": 4,\n",
    "    \"global_step\": 5000,\n",
    "    \"log_every\": 50,\n",
    "}\n",
    "\n"
   ]
  },
  {
   "cell_type": "code",
   "execution_count": null,
   "metadata": {},
   "outputs": [],
   "source": [
    "print(json.dumps(Experiment.schema(), indent=4))"
   ]
  },
  {
   "cell_type": "code",
   "execution_count": null,
   "metadata": {},
   "outputs": [],
   "source": [
    "experiment = Experiment(**config)\n",
    "experiment.dict()"
   ]
  },
  {
   "cell_type": "code",
   "execution_count": null,
   "metadata": {},
   "outputs": [],
   "source": [
    "model = experiment.create_model()\n",
    "\n",
    "model"
   ]
  },
  {
   "cell_type": "code",
   "execution_count": null,
   "metadata": {},
   "outputs": [],
   "source": [
    "model.total_trainable_params()"
   ]
  },
  {
   "cell_type": "code",
   "execution_count": null,
   "metadata": {},
   "outputs": [],
   "source": [
    "import pandas as pd\n",
    "pd.Series(model.trainable_params_by_layer())"
   ]
  },
  {
   "cell_type": "code",
   "execution_count": null,
   "metadata": {},
   "outputs": [],
   "source": [
    "update_generator = experiment.train(\n",
    "    inputs, targets, inputs, targets, iterator_type=\"batch_iterator\"\n",
    ")\n",
    "\n",
    "update_state = next(update_generator)\n",
    "update_state"
   ]
  },
  {
   "cell_type": "code",
   "execution_count": null,
   "metadata": {
    "scrolled": true
   },
   "outputs": [],
   "source": [
    "bar = tqdm(total=experiment.global_step)\n",
    "\n",
    "\n",
    "for update_state in update_generator:\n",
    "    \n",
    "    if update_state.step % experiment.log_every == 0:\n",
    "        \n",
    "        model = update_state.model\n",
    "        model = model.to_eval()\n",
    "        \n",
    "        predicted = model.predict_proba(inputs)\n",
    "        acc_metric = float(accuracy(targets, predicted))\n",
    "        \n",
    "        bar.set_description(f\"acc:{acc_metric*100}%, loss:{update_state.loss:.4f}\")\n",
    "        \n",
    "        if acc_metric >= 0.99:\n",
    "            print(\"Achieved Perfect Prediction!\")\n",
    "            break\n",
    "        model = model.to_train()\n",
    "    bar.update()"
   ]
  },
  {
   "cell_type": "code",
   "execution_count": null,
   "metadata": {},
   "outputs": [],
   "source": [
    "final_model = update_state.model\n",
    "final_model = final_model.to_eval()\n",
    "\n",
    "\n",
    "# Display Predictions\n",
    "probabilties = final_model.predict_proba(inputs)\n",
    "\n",
    "for gold, prob, pred in zip(targets, probabilties, np.argmax(probabilties, axis=1)):\n",
    "\n",
    "    print(gold, prob, pred)\n",
    "\n",
    "accuracy_score = float(accuracy(targets, probabilties))\n",
    "print(\"Accuracy: \", accuracy_score)"
   ]
  },
  {
   "cell_type": "code",
   "execution_count": null,
   "metadata": {},
   "outputs": [],
   "source": []
  }
 ],
 "metadata": {
  "kernelspec": {
   "display_name": "Python 3",
   "language": "python",
   "name": "python3"
  },
  "language_info": {
   "codemirror_mode": {
    "name": "ipython",
    "version": 3
   },
   "file_extension": ".py",
   "mimetype": "text/x-python",
   "name": "python",
   "nbconvert_exporter": "python",
   "pygments_lexer": "ipython3",
   "version": "3.7.7"
  }
 },
 "nbformat": 4,
 "nbformat_minor": 4
}
