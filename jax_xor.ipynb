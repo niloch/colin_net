{
 "cells": [
  {
   "cell_type": "code",
   "execution_count": null,
   "metadata": {},
   "outputs": [],
   "source": [
    "\"\"\"\n",
    "The canonical example of a function that can't be\n",
    "learned with a simple linear model is XOR\n",
    "\"\"\"\n",
    "import jax.numpy as np\n",
    "import jax.random as jxr\n",
    "import numpy as onp\n",
    "import plotly.graph_objects as go\n",
    "from tqdm.autonotebook import tqdm\n",
    "from jax.tree_util import tree_flatten\n",
    "\n",
    "from colin_net.data import BatchIterator\n",
    "from colin_net.layers import Linear, Softmax, Tanh\n",
    "from colin_net.loss import mean_sqaured_error\n",
    "from colin_net.nn import NeuralNet\n",
    "from colin_net.train import train\n",
    "\n",
    "\n",
    "# Create Input Data and True Labels\n",
    "inputs = onp.array([[0, 0], [1, 0], [0, 1], [1, 1]])\n",
    "\n",
    "targets = onp.array([[0, 1], [1, 0], [1, 0], [0, 1]])"
   ]
  },
  {
   "cell_type": "code",
   "execution_count": null,
   "metadata": {},
   "outputs": [],
   "source": [
    "# Generate seed for Reproducible Random Numbers\n",
    "key = jxr.PRNGKey(42)\n",
    "\n",
    "\n",
    "# Create NeuralNet Instance\n",
    "net = NeuralNet(\n",
    "    [\n",
    "        Linear.initialize(input_size=2, output_size=3, key=key),\n",
    "        Tanh(),\n",
    "        Linear.initialize(input_size=3, output_size=2, key=key),\n",
    "        Softmax(),\n",
    "    ]\n",
    ")\n",
    "\n",
    "net"
   ]
  },
  {
   "cell_type": "code",
   "execution_count": null,
   "metadata": {},
   "outputs": [],
   "source": [
    "tree_flatten(net)"
   ]
  },
  {
   "cell_type": "code",
   "execution_count": null,
   "metadata": {},
   "outputs": [],
   "source": [
    "# Create an iterator over the input data\n",
    "iterator = BatchIterator(inputs, targets)\n",
    "\n",
    "\n",
    "# define accuracy calculation\n",
    "def accuracy(actual, predicted):\n",
    "    return np.mean(np.argmax(actual, axis=1) == np.argmax(predicted, axis=1))\n",
    "\n",
    "\n",
    "# Start training process\n",
    "\n",
    "num_epochs = 500\n",
    "\n",
    "progress = train(\n",
    "    net,\n",
    "    num_epochs=num_epochs,\n",
    "    iterator=iterator,\n",
    "    loss=mean_sqaured_error,\n",
    "    lr=1.0\n",
    ")\n",
    "\n",
    "points = []\n",
    "for i, (epoch, loss, net) in enumerate(tqdm(progress, total=num_epochs)):\n",
    "    \n",
    "    # check loss and accuracy every 5 epochs\n",
    "    if i % 5 == 0:\n",
    "        print(epoch, loss)\n",
    "        predicted = net(inputs)\n",
    "\n",
    "        if accuracy(targets, predicted) >= 0.99:\n",
    "            print(\"Achieved Perfect Prediction!\")\n",
    "            points.append([epoch, loss])\n",
    "            break\n",
    "    points.append([epoch, loss])"
   ]
  },
  {
   "cell_type": "code",
   "execution_count": null,
   "metadata": {},
   "outputs": [],
   "source": [
    "# Display Predictions\n",
    "predicted = net(inputs)\n",
    "print(targets, predicted, np.argmax(predicted, axis=1))\n",
    "\n",
    "print(\"Accuracy: \", accuracy(targets, predicted))"
   ]
  },
  {
   "cell_type": "code",
   "execution_count": null,
   "metadata": {
    "scrolled": false
   },
   "outputs": [],
   "source": [
    "# Plott Loss Curve\n",
    "points_array = np.array(points)\n",
    "\n",
    "trace = [\n",
    "    go.Scattergl(\n",
    "        x=points_array[:, 0], y=points_array[:, 1], name=\"train loss\", opacity=0.5\n",
    "    )\n",
    "]\n",
    "\n",
    "\n",
    "layout = go.Layout(\n",
    "    title=\"Train Loss Over Time\",\n",
    "    xaxis=dict(title=\"Number of updates\"),\n",
    "    yaxis=dict(title=\"Loss\"),\n",
    ")\n",
    "\n",
    "fig = go.Figure(data=trace, layout=layout)\n",
    "\n",
    "fig.show()\n",
    "\n"
   ]
  }
 ],
 "metadata": {
  "kernelspec": {
   "display_name": "Python 3",
   "language": "python",
   "name": "python3"
  },
  "language_info": {
   "codemirror_mode": {
    "name": "ipython",
    "version": 3
   },
   "file_extension": ".py",
   "mimetype": "text/x-python",
   "name": "python",
   "nbconvert_exporter": "python",
   "pygments_lexer": "ipython3",
   "version": "3.7.7"
  }
 },
 "nbformat": 4,
 "nbformat_minor": 4
}
