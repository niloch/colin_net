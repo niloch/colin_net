{
 "cells": [
  {
   "cell_type": "code",
   "execution_count": null,
   "metadata": {},
   "outputs": [],
   "source": [
    "\"\"\"\n",
    "FizzBuzz is the following problem:\n",
    "\n",
    "For each of the numbers 1 to 100:\n",
    "* if the number is divisible by 3, print \"fizz\"\n",
    "* if the number is divisible by 5, print \"buzz\"\n",
    "* if the number is divisible by 15, print \"fizzbuzz\"\n",
    "* otherwise, just print the number\n",
    "\"\"\"\n",
    "from typing import List\n",
    "\n",
    "import jax.numpy as np\n",
    "import jax.random as jxr\n",
    "import plotly.graph_objects as go\n",
    "from jax import nn\n",
    "from tqdm.autonotebook import tqdm\n",
    "\n",
    "from colin_net.data import BatchIterator\n",
    "from colin_net.layers import Linear, Tanh, Relu\n",
    "from colin_net.loss import mean_sqaured_error\n",
    "from colin_net.nn import NeuralNet\n",
    "from colin_net.train import train\n",
    "\n",
    "key = jxr.PRNGKey(42)"
   ]
  },
  {
   "cell_type": "code",
   "execution_count": null,
   "metadata": {},
   "outputs": [],
   "source": [
    "def fizz_buzz_encode(x: int) -> List[int]:\n",
    "    if x % 15 == 0:\n",
    "        return [0, 0, 0, 1]\n",
    "    elif x % 5 == 0:\n",
    "        return [0, 0, 1, 0]\n",
    "    elif x % 3 == 0:\n",
    "        return [0, 1, 0, 0]\n",
    "    else:\n",
    "        return [1, 0, 0, 0]\n",
    "\n",
    "\n",
    "def binary_encode(x: int) -> List[int]:\n",
    "    \"\"\"\n",
    "    10 digit binary encoding of x\n",
    "    \"\"\"\n",
    "    return [x >> i & 1 for i in range(10)]\n",
    "\n",
    "\n",
    "inputs = np.array([binary_encode(x) for x in range(101, 1024)])\n",
    "\n",
    "targets = np.array([fizz_buzz_encode(x) for x in range(101, 1024)])"
   ]
  },
  {
   "cell_type": "code",
   "execution_count": null,
   "metadata": {},
   "outputs": [],
   "source": [
    "net = NeuralNet(\n",
    "    [\n",
    "        Linear.initialize(input_size=10, output_size=50, key=key),\n",
    "        Tanh(),\n",
    "        Linear.initialize(input_size=50, output_size=4, key=key)\n",
    "    ]\n",
    ")\n",
    "\n",
    "iterator = BatchIterator(inputs=inputs, targets=targets)\n",
    "\n",
    "\n",
    "# define accuracy calculation\n",
    "def accuracy(actual, predicted):\n",
    "    return np.mean(np.argmax(actual, axis=1) == np.argmax(predicted, axis=1))"
   ]
  },
  {
   "cell_type": "code",
   "execution_count": null,
   "metadata": {},
   "outputs": [],
   "source": [
    "num_epochs = 5000\n",
    "\n",
    "progress = train(\n",
    "    net, loss=mean_sqaured_error, iterator=iterator, num_epochs=num_epochs, lr=0.1\n",
    ")\n",
    "\n",
    "\n",
    "points = []\n",
    "for i, (epoch, loss, net) in enumerate(tqdm(progress, total=num_epochs)):\n",
    "\n",
    "    # check loss and accuracy every 100 epochs\n",
    "    if i % 100 == 0:\n",
    "        print(epoch, loss)\n",
    "        predicted = nn.softmax(net(inputs))\n",
    "        acc_metric = accuracy(targets, predicted)\n",
    "        print(f\"Train Accuracy: {acc_metric}\")\n",
    "\n",
    "    points.append([epoch, loss])"
   ]
  },
  {
   "cell_type": "code",
   "execution_count": null,
   "metadata": {},
   "outputs": [],
   "source": [
    "for x in range(1, 101):\n",
    "    predicted = nn.softmax(net.predict(np.array(binary_encode(x))))\n",
    "    predicted_idx = np.argmax(predicted)\n",
    "    actual_idx = np.argmax(np.array(fizz_buzz_encode(x)))\n",
    "    labels = [str(x), \"fizz\", \"buzz\", \"fizzbuzz\"]\n",
    "    print(x, labels[predicted_idx], labels[actual_idx])\n",
    "\n",
    "\n",
    "test_predictions = nn.softmax(net(np.array([binary_encode(x) for x in range(1, 101)])))\n",
    "test_labels = np.array([fizz_buzz_encode(x) for x in range(1, 101)])\n",
    "\n",
    "test_accuracy = accuracy(test_labels, test_predictions)\n",
    "\n",
    "print(f\"Test Accuracy: {test_accuracy}\")"
   ]
  },
  {
   "cell_type": "code",
   "execution_count": null,
   "metadata": {},
   "outputs": [],
   "source": [
    "# Plott Loss Curve\n",
    "points_array = np.array(points)\n",
    "\n",
    "trace = [\n",
    "    go.Scattergl(\n",
    "        x=points_array[:, 0], y=points_array[:, 1], name=\"train loss\", opacity=0.5\n",
    "    )\n",
    "]\n",
    "\n",
    "\n",
    "layout = go.Layout(\n",
    "    title=\"FizzBuzz Train Loss Over Time\",\n",
    "    xaxis=dict(title=\"Number of updates\"),\n",
    "    yaxis=dict(title=\"Loss\"),\n",
    "    width=600,\n",
    "    height=500,\n",
    ")\n",
    "\n",
    "fig = go.Figure(data=trace, layout=layout)\n",
    "\n",
    "fig.show()"
   ]
  }
 ],
 "metadata": {
  "kernelspec": {
   "display_name": "Python 3",
   "language": "python",
   "name": "python3"
  },
  "language_info": {
   "codemirror_mode": {
    "name": "ipython",
    "version": 3
   },
   "file_extension": ".py",
   "mimetype": "text/x-python",
   "name": "python",
   "nbconvert_exporter": "python",
   "pygments_lexer": "ipython3",
   "version": "3.7.7"
  }
 },
 "nbformat": 4,
 "nbformat_minor": 4
}
